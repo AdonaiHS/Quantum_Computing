{
 "cells": [
  {
   "cell_type": "markdown",
   "metadata": {},
   "source": [
    "# GHZ Game\n",
    "In this code we simulate the thought experiment known as the GHZ (Greenberger, Horne, Zeilinger) game\n",
    "\n",
    "We have three parties: \"Alice\", \"Bob\" and \"Charlie\". Each one receives, respectively, bits x, y and z from $\\{000, 011, 101, 110\\}$ as inputs, then each one responds with bits a, b and c. They win the game if a, b and c are such that the following is satisfied\n",
    "$$a \\oplus b \\oplus c = x \\vee y \\vee z$$\n",
    "They can talk and decide a strategy beforehand, but they are unable to comunicate during the game. Classicaly, the best strategy guarantees that they will win with probability $0.75$. But if instead of outputing classical bits they output the measurements of the shared quantum state\n",
    "$$|\\psi\\rangle = \\frac{|000\\rangle - |011\\rangle - |101\\rangle - |110\\rangle}{2}$$\n",
    "it can be shown that they can always win.\n",
    "\n",
    "It is possible to use this experiment to chech whether the device we are running the code is actually quantum.\n",
    "\n",
    "The strategy is as follows:\n",
    "\n",
    "- If a player receives a $0$ he/she measures his/her qubit and outputs the result, if he/she receives a $1$ then a Hadamard must be applied before."
   ]
  },
  {
   "cell_type": "code",
   "execution_count": 1,
   "metadata": {},
   "outputs": [
    {
     "name": "stderr",
     "output_type": "stream",
     "text": [
      "/opt/conda/lib/python3.7/site-packages/qiskit/providers/ibmq/ibmqfactory.py:192: UserWarning: Timestamps in IBMQ backend properties, jobs, and job results are all now in local time instead of UTC.\n",
      "  warnings.warn('Timestamps in IBMQ backend properties, jobs, and job results '\n"
     ]
    }
   ],
   "source": [
    "%matplotlib inline\n",
    "\n",
    "from qiskit import *\n",
    "from qiskit.tools.monitor import *\n",
    "from qiskit.visualization import *\n",
    "from qiskit.providers.ibmq import least_busy\n",
    "\n",
    "provider = IBMQ.load_account()"
   ]
  },
  {
   "cell_type": "code",
   "execution_count": 2,
   "metadata": {},
   "outputs": [],
   "source": [
    "# Let us write a function to create the circuit representing the CHSH game\n",
    "def GHZ_circ(x, y, z):\n",
    "    \n",
    "    # x: bit received by Alice\n",
    "    # y: bit received by Bob\n",
    "    # z: bit received by Charlie\n",
    "        \n",
    "    circ = QuantumCircuit(3, 3)\n",
    "    \n",
    "    # First we set the |psi> state\n",
    "    circ.h(0)\n",
    "    circ.cx(0, 1)\n",
    "    circ.h(1)\n",
    "    circ.cx(1,2)\n",
    "    circ.cx(0,2)\n",
    "    circ.z(2)\n",
    "    \n",
    "    # Alice's qubit \n",
    "    if x == 1:\n",
    "        circ.h(0)\n",
    "            \n",
    "    # Bob's qubit\n",
    "    if y == 1:\n",
    "        circ.h(1)\n",
    "        \n",
    "    # Charlie's qubit\n",
    "    if z == 1:\n",
    "        circ.h(2)\n",
    "        \n",
    "    circ.measure(range(3), range(3))\n",
    "     \n",
    "    return circ"
   ]
  },
  {
   "cell_type": "code",
   "execution_count": 3,
   "metadata": {},
   "outputs": [],
   "source": [
    "# Now we need a function that will calculate the probability of winning the game\n",
    "def win_prob(backend, shots = 1024):\n",
    "    \n",
    "    victories = 0\n",
    "    \n",
    "    games = [GHZ_circ(0, 0, 0), GHZ_circ(0, 1, 1), GHZ_circ(1, 0, 1), GHZ_circ(1, 1, 0)]\n",
    "    job = execute(games, backend = backend, shots = shots)\n",
    "    job_monitor(job)\n",
    "    \n",
    "    # We have four possible games\n",
    "    # In the first case, they win if there are either none or two 1's\n",
    "    counts = job.result().get_counts(games[0])\n",
    "    if '000' in counts:\n",
    "        victories += counts['000']\n",
    "    if '011' in counts:\n",
    "        victories += counts['011']\n",
    "    if '101' in counts:\n",
    "        victories += counts['101']\n",
    "    if '110' in counts:\n",
    "        victories += counts['110']\n",
    "    # In the last three, they win if if there are either one or three 1's\n",
    "    for game in games[1:4]:\n",
    "        counts = job.result().get_counts(game)\n",
    "        if '001' in counts:\n",
    "            victories += counts['001']\n",
    "        if '010' in counts:\n",
    "            victories += counts['010']\n",
    "        if '100' in counts:\n",
    "            victories += counts['100']\n",
    "        if '111' in counts:\n",
    "            victories += counts['111']\n",
    "    \n",
    "    prob = victories/(4*shots)\n",
    "    \n",
    "    return prob"
   ]
  },
  {
   "cell_type": "code",
   "execution_count": 4,
   "metadata": {},
   "outputs": [
    {
     "name": "stdout",
     "output_type": "stream",
     "text": [
      "Job Status: job has successfully run\n"
     ]
    },
    {
     "data": {
      "text/plain": [
       "1.0"
      ]
     },
     "execution_count": 4,
     "metadata": {},
     "output_type": "execute_result"
    }
   ],
   "source": [
    "# First let us run the games in a simulator\n",
    "backend = Aer.get_backend('qasm_simulator')\n",
    "win_prob(backend)"
   ]
  },
  {
   "cell_type": "code",
   "execution_count": 5,
   "metadata": {},
   "outputs": [
    {
     "name": "stdout",
     "output_type": "stream",
     "text": [
      "Executing on: ibmq_athens\n",
      "Job Status: job has successfully run\n"
     ]
    },
    {
     "data": {
      "text/plain": [
       "0.917724609375"
      ]
     },
     "execution_count": 5,
     "metadata": {},
     "output_type": "execute_result"
    }
   ],
   "source": [
    "# Now we run it in a real quantum device\n",
    "backend = least_busy(provider.backends(operational = True, simulator = False, status_msg = 'active',\n",
    "                            filters = lambda x: x.configuration().n_qubits >= 3))\n",
    "print('Executing on:', backend)\n",
    "win_prob(backend)"
   ]
  },
  {
   "cell_type": "code",
   "execution_count": null,
   "metadata": {},
   "outputs": [],
   "source": []
  }
 ],
 "metadata": {
  "kernelspec": {
   "display_name": "Python 3",
   "language": "python",
   "name": "python3"
  },
  "language_info": {
   "codemirror_mode": {
    "name": "ipython",
    "version": 3
   },
   "file_extension": ".py",
   "mimetype": "text/x-python",
   "name": "python",
   "nbconvert_exporter": "python",
   "pygments_lexer": "ipython3",
   "version": "3.7.8"
  }
 },
 "nbformat": 4,
 "nbformat_minor": 4
}
