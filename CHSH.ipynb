{
 "cells": [
  {
   "cell_type": "markdown",
   "metadata": {},
   "source": [
    "# CHSH Game\n",
    "In this code we simulate the thought experiment known as the CHSH (Clauser, Horne, Shimony, Holt) game\n",
    "\n",
    "We have two parties: \"Alice\" and \"Bob\". Each one receives, respectively, bits x and y as inputs, then each one responds with bits a and b. They win the game if a and b are such that the following is satisfied\n",
    "$$a \\oplus b = x.y$$\n",
    "They can talk and decide a strategy beforehand, but they are unable to comunicate during the game. Classicaly, the best strategy guarantees that they will win with probability $0.75$. But if instead of outputing classical bits they output the measurements of the shared Bell state\n",
    "$$\\frac{|00\\rangle + |11\\rangle}{\\sqrt{2}}$$\n",
    "it can be shown that the best strategy guarantees a win rate of \n",
    "$$\\cos^{2}(\\pi/8) \\approx 0.85$$\n",
    "It is possible to use this experiment to chech whether the device we are running the code is actually quantum.\n",
    "\n",
    "The strategy is as follows:\n",
    "\n",
    "- If Alice receives $x = 0$ she measures her qubit and outputs the result, else she first applies $R_Y(\\pi/2)$.\n",
    "- If Bob receives $y = 0$ he applies $R_Y(\\pi/4)$ before measuring, else he applies $R_Y(-\\pi/4)$."
   ]
  },
  {
   "cell_type": "code",
   "execution_count": 105,
   "metadata": {},
   "outputs": [
    {
     "name": "stderr",
     "output_type": "stream",
     "text": [
      "ibmqfactory.load_account:WARNING:2021-01-06 21:54:56,158: Credentials are already in use. The existing account in the session will be replaced.\n"
     ]
    }
   ],
   "source": [
    "%matplotlib inline\n",
    "\n",
    "from qiskit import *\n",
    "from qiskit.tools.monitor import *\n",
    "from qiskit.visualization import *\n",
    "from qiskit.providers.ibmq import least_busy\n",
    "import numpy as np\n",
    "\n",
    "provider = IBMQ.load_account()"
   ]
  },
  {
   "cell_type": "code",
   "execution_count": 106,
   "metadata": {},
   "outputs": [],
   "source": [
    "# Let us write a function to create the circuit representing the CHSH game\n",
    "def CHSH_circ(x, y, a0 = 0, a1 = np.pi/2, b0 = np.pi/4, b1 = -np.pi/4):\n",
    "    \n",
    "    # x: bit received by Alice\n",
    "    # y: bit received by Bob\n",
    "    # a0: Y-Rotation if Alice received a 0\n",
    "    # a1: Y-Rotation if Alice received a 1\n",
    "    # b0: Y-Rotation if Bob received a 0\n",
    "    # b1: Y-Rotation if Bob received a 1\n",
    "    \n",
    "    circ = QuantumCircuit(2, 2)\n",
    "    \n",
    "    # First we set the Bell state\n",
    "    circ.h(0)\n",
    "    circ.cx(0, 1)\n",
    "    \n",
    "    # Alice's qubit \n",
    "    if x == 0:\n",
    "        circ.ry(a0, 0)\n",
    "    else:\n",
    "        circ.ry(a1, 0)\n",
    "        \n",
    "    # Bob's qubit\n",
    "    if y == 0:\n",
    "        circ.ry(b0, 1)\n",
    "    else:\n",
    "        circ.ry(b1, 1)\n",
    "    \n",
    "    circ.measure(range(2), range(2))\n",
    "     \n",
    "    return circ\n",
    "    "
   ]
  },
  {
   "cell_type": "code",
   "execution_count": 107,
   "metadata": {},
   "outputs": [],
   "source": [
    "# Now we need a function that will calculate the probability of winning the game\n",
    "def win_prob(backend, shots = 1024):\n",
    "    \n",
    "    victories = 0\n",
    "    \n",
    "    games = [CHSH_circ(0, 0), CHSH_circ(1, 0), CHSH_circ(0, 1), CHSH_circ(1, 1)]\n",
    "    job = execute(games, backend = backend, shots = shots)\n",
    "    job_monitor(job)\n",
    "    \n",
    "    # We have four possible games\n",
    "    # In the first three, they win if they output equal results\n",
    "    for game in games[0:3]:\n",
    "        counts = job.result().get_counts(game)\n",
    "        if '00' in counts:\n",
    "            victories += counts['00']\n",
    "        if '11' in counts:\n",
    "            victories += counts['11']\n",
    "    # In the fourth, they win if they output different results\n",
    "    counts = job.result().get_counts(games[3])\n",
    "    if '01' in counts:\n",
    "        victories += counts['01']\n",
    "    if '10' in counts:\n",
    "        victories += counts['10']\n",
    "    \n",
    "    prob = victories/(4*shots)\n",
    "    \n",
    "    return prob"
   ]
  },
  {
   "cell_type": "code",
   "execution_count": 108,
   "metadata": {},
   "outputs": [
    {
     "name": "stdout",
     "output_type": "stream",
     "text": [
      "Job Status: job has successfully run\n"
     ]
    },
    {
     "data": {
      "text/plain": [
       "0.85302734375"
      ]
     },
     "execution_count": 108,
     "metadata": {},
     "output_type": "execute_result"
    }
   ],
   "source": [
    "# First let us run the games in a simulator\n",
    "backend = Aer.get_backend('qasm_simulator')\n",
    "win_prob(backend)"
   ]
  },
  {
   "cell_type": "code",
   "execution_count": 109,
   "metadata": {
    "scrolled": true
   },
   "outputs": [
    {
     "name": "stdout",
     "output_type": "stream",
     "text": [
      "Executing on: ibmqx2\n",
      "Job Status: job has successfully run\n"
     ]
    },
    {
     "data": {
      "text/plain": [
       "0.78466796875"
      ]
     },
     "execution_count": 109,
     "metadata": {},
     "output_type": "execute_result"
    }
   ],
   "source": [
    "# Now we run it in a real quantum device\n",
    "backend = least_busy(provider.backends(operational = True, simulator = False, status_msg = 'active',\n",
    "                            filters = lambda x: x.configuration().n_qubits >= 2))\n",
    "print('Executing on:', backend)\n",
    "win_prob(backend)"
   ]
  },
  {
   "cell_type": "code",
   "execution_count": null,
   "metadata": {},
   "outputs": [],
   "source": []
  }
 ],
 "metadata": {
  "kernelspec": {
   "display_name": "Python 3",
   "language": "python",
   "name": "python3"
  },
  "language_info": {
   "codemirror_mode": {
    "name": "ipython",
    "version": 3
   },
   "file_extension": ".py",
   "mimetype": "text/x-python",
   "name": "python",
   "nbconvert_exporter": "python",
   "pygments_lexer": "ipython3",
   "version": "3.7.8"
  }
 },
 "nbformat": 4,
 "nbformat_minor": 4
}
